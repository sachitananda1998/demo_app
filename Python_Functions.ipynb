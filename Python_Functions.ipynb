{
 "cells": [
  {
   "cell_type": "code",
   "execution_count": 2,
   "metadata": {},
   "outputs": [],
   "source": [
    "def guvi():\n",
    "    print(\"hello saturday\")\n",
    "    print(\"today is a weekend\")\n",
    "    return \"guvi\",\"Sachitananda Jena\""
   ]
  },
  {
   "cell_type": "code",
   "execution_count": 34,
   "metadata": {},
   "outputs": [
    {
     "data": {
      "text/plain": [
       "<function __main__.guvi()>"
      ]
     },
     "execution_count": 34,
     "metadata": {},
     "output_type": "execute_result"
    }
   ],
   "source": [
    "guvi"
   ]
  },
  {
   "cell_type": "code",
   "execution_count": 3,
   "metadata": {},
   "outputs": [
    {
     "name": "stdout",
     "output_type": "stream",
     "text": [
      "hello saturday\n",
      "today is a weekend\n",
      "('guvi', 'Sachitananda Jena')\n"
     ]
    }
   ],
   "source": [
    "a=guvi()\n",
    "print(a)"
   ]
  },
  {
   "cell_type": "code",
   "execution_count": 36,
   "metadata": {},
   "outputs": [
    {
     "name": "stdout",
     "output_type": "stream",
     "text": [
      "hello saturday\n",
      "today is a weekend\n"
     ]
    },
    {
     "data": {
      "text/plain": [
       "('guvi', 'Sachitananda Jena')"
      ]
     },
     "execution_count": 36,
     "metadata": {},
     "output_type": "execute_result"
    }
   ],
   "source": [
    "import Sachin\n",
    "Sachin.guvi()"
   ]
  },
  {
   "cell_type": "code",
   "execution_count": 4,
   "metadata": {},
   "outputs": [],
   "source": [
    "def hello(word):\n",
    "    a=len(word)\n",
    "    b=word.upper()\n",
    "    return \"the word \"+b +\" is of the length \"+str(a)"
   ]
  },
  {
   "cell_type": "code",
   "execution_count": 37,
   "metadata": {},
   "outputs": [
    {
     "data": {
      "text/plain": [
       "'the word DEVIAN IS THE FIRST AI PROGRAM is of the length 30'"
      ]
     },
     "execution_count": 37,
     "metadata": {},
     "output_type": "execute_result"
    }
   ],
   "source": [
    "hello(\"devian is the first AI program\")"
   ]
  },
  {
   "cell_type": "code",
   "execution_count": 6,
   "metadata": {},
   "outputs": [],
   "source": [
    "def bank(name,acc,accty=\"savings\"):\n",
    "    return name,acc,accty"
   ]
  },
  {
   "cell_type": "code",
   "execution_count": 7,
   "metadata": {},
   "outputs": [
    {
     "data": {
      "text/plain": [
       "('Sachitananda Jena', 123456789, 'Guvi children bank')"
      ]
     },
     "execution_count": 7,
     "metadata": {},
     "output_type": "execute_result"
    }
   ],
   "source": [
    "bank(\"Sachitananda Jena\",123456789,\"Guvi children bank\")"
   ]
  },
  {
   "cell_type": "code",
   "execution_count": 8,
   "metadata": {},
   "outputs": [],
   "source": [
    "def max(a,b,c):\n",
    "        if a>b and a>c:\n",
    "            return a\n",
    "        elif b>a and b>c:\n",
    "            return b\n",
    "        else:\n",
    "            return c"
   ]
  },
  {
   "cell_type": "code",
   "execution_count": 9,
   "metadata": {},
   "outputs": [
    {
     "data": {
      "text/plain": [
       "6"
      ]
     },
     "execution_count": 9,
     "metadata": {},
     "output_type": "execute_result"
    }
   ],
   "source": [
    "max(6,5,4)"
   ]
  },
  {
   "cell_type": "code",
   "execution_count": 10,
   "metadata": {},
   "outputs": [],
   "source": [
    "def prin(name,acc,*values):\n",
    "    print(name,acc)\n",
    "    i = 0\n",
    "    for a in values:\n",
    "        i = i + a\n",
    "    print(i)"
   ]
  },
  {
   "cell_type": "code",
   "execution_count": 11,
   "metadata": {},
   "outputs": [
    {
     "name": "stdout",
     "output_type": "stream",
     "text": [
      "1 2 3 4 5 6 7 8 9\n"
     ]
    }
   ],
   "source": [
    "print(1,2,3,4,5,6,7,8,9)"
   ]
  },
  {
   "cell_type": "code",
   "execution_count": 12,
   "metadata": {},
   "outputs": [],
   "source": [
    "def kw(**values):\n",
    "    print(values)\n",
    "    print(values.keys())\n",
    "    print(values.values())\n",
    "    for i,j in values.items():\n",
    "        print(len(j),len(i))"
   ]
  },
  {
   "cell_type": "code",
   "execution_count": 13,
   "metadata": {},
   "outputs": [
    {
     "name": "stdout",
     "output_type": "stream",
     "text": [
      "{'name': 'Sachin', 'tech': 'data', 'city': 'all metro'}\n",
      "dict_keys(['name', 'tech', 'city'])\n",
      "dict_values(['Sachin', 'data', 'all metro'])\n",
      "6 4\n",
      "4 4\n",
      "9 4\n"
     ]
    }
   ],
   "source": [
    "kw(name=\"Sachin\", tech=\"data\", city=\"all metro\")"
   ]
  },
  {
   "cell_type": "code",
   "execution_count": 14,
   "metadata": {},
   "outputs": [
    {
     "name": "stdout",
     "output_type": "stream",
     "text": [
      "('Dinner', 'Townhall')\n",
      "(50, True)\n",
      "Dining\n",
      "Playing\n",
      "Cake Party\n",
      "{'food': 'Vegan', 'timings': '7:00 PM to 10:00 PM', 'course': '3 cousrse meal dinner'}\n",
      "dict_keys(['food', 'timings', 'course'])\n",
      "dict_values(['Vegan', '7:00 PM to 10:00 PM', '3 cousrse meal dinner'])\n"
     ]
    }
   ],
   "source": [
    "def area(event_name, location):\n",
    "    return event_name,location\n",
    "\n",
    "def details(max_guests = 50,indoor = True):\n",
    "    return max_guests, indoor\n",
    "\n",
    "def kw(*activity1):\n",
    "    for i in activity1:\n",
    "        print(i)\n",
    "\n",
    "def type(**values):\n",
    "    print(values)\n",
    "    print(values.keys())\n",
    "    print(values.values())\n",
    "\n",
    "print(area(\"Dinner\", \"Townhall\"))\n",
    "print(details())\n",
    "kw(\"Dining\",\"Playing\",\"Cake Party\")\n",
    "type(food = \"Vegan\", timings = \"7:00 PM to 10:00 PM\", course = \"3 cousrse meal dinner\")\n"
   ]
  },
  {
   "cell_type": "code",
   "execution_count": 15,
   "metadata": {},
   "outputs": [
    {
     "data": {
      "text/plain": [
       "('Dinner', 'Townhall')"
      ]
     },
     "execution_count": 15,
     "metadata": {},
     "output_type": "execute_result"
    }
   ],
   "source": [
    "area(\"Dinner\", \"Townhall\")"
   ]
  },
  {
   "cell_type": "code",
   "execution_count": 16,
   "metadata": {},
   "outputs": [
    {
     "data": {
      "text/plain": [
       "(100, False)"
      ]
     },
     "execution_count": 16,
     "metadata": {},
     "output_type": "execute_result"
    }
   ],
   "source": [
    "details(100, False)"
   ]
  },
  {
   "cell_type": "code",
   "execution_count": 17,
   "metadata": {},
   "outputs": [
    {
     "name": "stdout",
     "output_type": "stream",
     "text": [
      "Dining\n",
      "Playing\n",
      "Cake Party\n"
     ]
    }
   ],
   "source": [
    "kw(\"Dining\",\"Playing\",\"Cake Party\")"
   ]
  },
  {
   "cell_type": "code",
   "execution_count": 18,
   "metadata": {},
   "outputs": [
    {
     "name": "stdout",
     "output_type": "stream",
     "text": [
      "{'food': 'Vegan', 'timings': '7:00 PM to 10:00 PM', 'course': '3 cousrse meal dinner'}\n",
      "dict_keys(['food', 'timings', 'course'])\n",
      "dict_values(['Vegan', '7:00 PM to 10:00 PM', '3 cousrse meal dinner'])\n"
     ]
    }
   ],
   "source": [
    "type(food = \"Vegan\", timings = \"7:00 PM to 10:00 PM\", course = \"3 cousrse meal dinner\")"
   ]
  },
  {
   "cell_type": "code",
   "execution_count": 19,
   "metadata": {},
   "outputs": [
    {
     "name": "stdout",
     "output_type": "stream",
     "text": [
      "Gaming Chennai\n",
      "Dance\n",
      "Music\n",
      "Litrature\n",
      "Food_type Non Veg\n",
      "Games hack and Slash Games\n"
     ]
    }
   ],
   "source": [
    "def events(event_name,location,*activity,guest_count=50,indoor=True,**additional_actvities):\n",
    "    print(event_name,location)\n",
    "    for i in activity:\n",
    "        print(i)\n",
    "    for i,j in additional_actvities.items():\n",
    "        print(i,j)\n",
    "\n",
    "events(\"Gaming\",\"Chennai\",\"Dance\",\"Music\",\"Litrature\",guest_count=20,indoor=False,Food_type=\"Non Veg\",Games=\"hack and Slash Games\")"
   ]
  },
  {
   "cell_type": "code",
   "execution_count": 20,
   "metadata": {},
   "outputs": [
    {
     "name": "stdout",
     "output_type": "stream",
     "text": [
      "guvi\n",
      "('guviguviguviguvi', 'data sciencedata science')\n",
      "guviguvi\n"
     ]
    }
   ],
   "source": [
    "x = \"guvi\"\n",
    "\n",
    "def nirmal():\n",
    "    global x\n",
    "    x=x*2\n",
    "    z=\"data science\"\n",
    "    z=z*2\n",
    "    y=x*2\n",
    "    return y,z\n",
    "\n",
    "print(x)\n",
    "a=nirmal()\n",
    "print(a)\n",
    "print(x)"
   ]
  },
  {
   "cell_type": "code",
   "execution_count": 21,
   "metadata": {},
   "outputs": [
    {
     "name": "stdout",
     "output_type": "stream",
     "text": [
      "Fibonacci sequence:\n",
      "0\n",
      "1\n",
      "1\n",
      "2\n",
      "3\n",
      "5\n",
      "8\n",
      "13\n"
     ]
    }
   ],
   "source": [
    "def fibo(n):\n",
    "   if n <= 1:\n",
    "       return n\n",
    "   else:\n",
    "       return(fibo(n-1) + fibo(n-2))\n",
    "\n",
    "nterms = 8\n",
    "\n",
    "if nterms <= 0:\n",
    "   print(\"Plese enter a positive integer\")\n",
    "else:\n",
    "   print(\"Fibonacci sequence:\")\n",
    "   for i in range(nterms):\n",
    "       print(fibo(i))"
   ]
  },
  {
   "cell_type": "code",
   "execution_count": 22,
   "metadata": {},
   "outputs": [
    {
     "name": "stdout",
     "output_type": "stream",
     "text": [
      "120\n"
     ]
    }
   ],
   "source": [
    "def fact(n):\n",
    "    if n in (0,1):\n",
    "        return 1\n",
    "    else:\n",
    "        return n*fact(n-1)\n",
    "    \n",
    "print(fact(5))"
   ]
  },
  {
   "cell_type": "code",
   "execution_count": 23,
   "metadata": {},
   "outputs": [
    {
     "name": "stdout",
     "output_type": "stream",
     "text": [
      "Original string: hello\n",
      "Reversed string: olleh\n"
     ]
    }
   ],
   "source": [
    "def reverse_string(s):\n",
    "   # Base case: if the string is empty or consists of a single character, return it as is\n",
    "   if len(s) <= 1:\n",
    "       return s\n",
    "   else:\n",
    "       # Recursive case: reverse the rest of the string and append the first character at the end\n",
    "       return reverse_string(s[1:]) + s[0]\n",
    "\n",
    "\n",
    "# Example usage\n",
    "original_string = \"hello\"\n",
    "reversed_string = reverse_string(original_string)\n",
    "print(f\"Original string: {original_string}\")\n",
    "print(f\"Reversed string: {reversed_string}\")"
   ]
  },
  {
   "cell_type": "code",
   "execution_count": 24,
   "metadata": {},
   "outputs": [],
   "source": [
    "def name(x):\n",
    "    if x.islower():\n",
    "        return True\n",
    "    else:\n",
    "        return False\n",
    "def validation(x):\n",
    "    if x.isalpha() and name(x):\n",
    "        return \"all good\"\n",
    "    else:\n",
    "        return \"something wrong\""
   ]
  },
  {
   "cell_type": "code",
   "execution_count": 25,
   "metadata": {},
   "outputs": [
    {
     "data": {
      "text/plain": [
       "'all good'"
      ]
     },
     "execution_count": 25,
     "metadata": {},
     "output_type": "execute_result"
    }
   ],
   "source": [
    "validation(\"sachitanandajena\")"
   ]
  },
  {
   "cell_type": "code",
   "execution_count": 26,
   "metadata": {},
   "outputs": [
    {
     "name": "stdout",
     "output_type": "stream",
     "text": [
      "15\n"
     ]
    }
   ],
   "source": [
    "x = lambda a:a+10\n",
    "print(x(5))"
   ]
  },
  {
   "cell_type": "code",
   "execution_count": 27,
   "metadata": {},
   "outputs": [
    {
     "data": {
      "text/plain": [
       "'even'"
      ]
     },
     "execution_count": 27,
     "metadata": {},
     "output_type": "execute_result"
    }
   ],
   "source": [
    "cool=lambda x:\"even\" if x%2==0 else \"odd\"\n",
    "cool(10)"
   ]
  },
  {
   "cell_type": "code",
   "execution_count": 28,
   "metadata": {},
   "outputs": [
    {
     "name": "stdout",
     "output_type": "stream",
     "text": [
      "[18, 24, 32]\n"
     ]
    }
   ],
   "source": [
    "ages = [5, 12, 17, 18, 24, 32]\n",
    "\n",
    "def adult(x):\n",
    "   if x < 18:\n",
    "       return False\n",
    "   else:\n",
    "       return True\n",
    "\n",
    "\n",
    "adults = filter(adult, ages)\n",
    "print(list(adults))"
   ]
  },
  {
   "cell_type": "code",
   "execution_count": 29,
   "metadata": {},
   "outputs": [
    {
     "name": "stdout",
     "output_type": "stream",
     "text": [
      "5\n",
      "10\n"
     ]
    }
   ],
   "source": [
    "class names():\n",
    "    a=10\n",
    "    b=5\n",
    "\n",
    "c=names()\n",
    "print(c.b)\n",
    "print(c.a)"
   ]
  },
  {
   "cell_type": "code",
   "execution_count": 30,
   "metadata": {},
   "outputs": [],
   "source": [
    "class account():\n",
    "    def __init__(self,name,account_number,balance):\n",
    "        self.name=name\n",
    "        self.account_number=account_number\n",
    "        self.balance=balance\n",
    "\n",
    "    def deposit(self,amount):\n",
    "        try:\n",
    "            self.balance=self.balance + amount\n",
    "            return \"Your updated balance is \"+str(self.balance)\n",
    "        except:\n",
    "            print(\"Invalid amount to be deposited\")\n",
    "    \n",
    "    def withdrawl(self,amount):\n",
    "        if self.balance >= amount:\n",
    "            self.balance=self.balance - amount\n",
    "            return \"Your updated balance is \"+str(self.balance)\n",
    "        else:\n",
    "            return False\n",
    "\n",
    "    def transfer(self,account,amount):\n",
    "        if self.withdraw(amount):\n",
    "            account.deposit(amount)\n",
    "        else:\n",
    "            print(\"Unable to withdraw the amount\")"
   ]
  },
  {
   "cell_type": "code",
   "execution_count": 31,
   "metadata": {},
   "outputs": [
    {
     "name": "stdout",
     "output_type": "stream",
     "text": [
      "Your updated balance is 10001500\n",
      "Your updated balance is 20001700\n"
     ]
    }
   ],
   "source": [
    "sachin=account('Sachin',123,1500)\n",
    "nirmal=account('Nirmal',345,1700)\n",
    "\n",
    "print(sachin.deposit(10000000))\n",
    "print(nirmal.deposit(20000000))"
   ]
  },
  {
   "cell_type": "code",
   "execution_count": 32,
   "metadata": {},
   "outputs": [
    {
     "name": "stdout",
     "output_type": "stream",
     "text": [
      "123\n",
      "Your updated balance is 1500\n"
     ]
    }
   ],
   "source": [
    "print(sachin.account_number)\n",
    "print(sachin.withdrawl(10000000))"
   ]
  },
  {
   "cell_type": "code",
   "execution_count": 33,
   "metadata": {},
   "outputs": [
    {
     "name": "stdout",
     "output_type": "stream",
     "text": [
      "1500\n",
      "20001700\n"
     ]
    }
   ],
   "source": [
    "print(sachin.balance)\n",
    "print(nirmal.balance)"
   ]
  }
 ],
 "metadata": {
  "kernelspec": {
   "display_name": "guvi",
   "language": "python",
   "name": "python3"
  },
  "language_info": {
   "codemirror_mode": {
    "name": "ipython",
    "version": 3
   },
   "file_extension": ".py",
   "mimetype": "text/x-python",
   "name": "python",
   "nbconvert_exporter": "python",
   "pygments_lexer": "ipython3",
   "version": "3.12.2"
  }
 },
 "nbformat": 4,
 "nbformat_minor": 2
}
