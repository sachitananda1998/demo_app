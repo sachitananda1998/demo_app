{
 "cells": [
  {
   "cell_type": "code",
   "execution_count": 1,
   "metadata": {},
   "outputs": [
    {
     "name": "stdout",
     "output_type": "stream",
     "text": [
      "Hello\n"
     ]
    }
   ],
   "source": [
    "print (\"Hello\")"
   ]
  },
  {
   "cell_type": "code",
   "execution_count": 2,
   "metadata": {},
   "outputs": [
    {
     "name": "stdout",
     "output_type": "stream",
     "text": [
      "True\n",
      "False\n",
      "True\n",
      "False\n",
      "False\n",
      "True\n"
     ]
    }
   ],
   "source": [
    "print (1<2)\n",
    "print (1>2)\n",
    "print (1<=2)\n",
    "print (1>=2)\n",
    "print (1==2)\n",
    "print (1!=2)"
   ]
  },
  {
   "cell_type": "code",
   "execution_count": 2,
   "metadata": {},
   "outputs": [
    {
     "name": "stdout",
     "output_type": "stream",
     "text": [
      "Hello\n"
     ]
    }
   ],
   "source": [
    "import Pythonproj"
   ]
  },
  {
   "cell_type": "code",
   "execution_count": 3,
   "metadata": {},
   "outputs": [],
   "source": [
    "a=int(input(\"Enter value of a\"))\n",
    "b=int(input(\"Enter value of b\"))"
   ]
  },
  {
   "cell_type": "code",
   "execution_count": 4,
   "metadata": {},
   "outputs": [
    {
     "name": "stdout",
     "output_type": "stream",
     "text": [
      "False\n"
     ]
    }
   ],
   "source": [
    "print (\"guvi \" == \"guvi\")"
   ]
  },
  {
   "cell_type": "code",
   "execution_count": 7,
   "metadata": {},
   "outputs": [
    {
     "name": "stdout",
     "output_type": "stream",
     "text": [
      "18\n",
      "6\n",
      "72\n",
      "2.0\n",
      "0\n",
      "2\n",
      "2985984\n"
     ]
    }
   ],
   "source": [
    "print(a+b)\n",
    "print(a-b)\n",
    "print(a*b)\n",
    "print(a/b)\n",
    "print(a%b)\n",
    "print(a//b)\n",
    "print(a**b)"
   ]
  },
  {
   "cell_type": "code",
   "execution_count": 16,
   "metadata": {},
   "outputs": [
    {
     "data": {
      "text/plain": [
       "1"
      ]
     },
     "execution_count": 16,
     "metadata": {},
     "output_type": "execute_result"
    }
   ],
   "source": [
    "1 or 1 or 1"
   ]
  },
  {
   "cell_type": "code",
   "execution_count": 17,
   "metadata": {},
   "outputs": [
    {
     "data": {
      "text/plain": [
       "1"
      ]
     },
     "execution_count": 17,
     "metadata": {},
     "output_type": "execute_result"
    }
   ],
   "source": [
    "1 or 1 and 0"
   ]
  },
  {
   "cell_type": "code",
   "execution_count": 19,
   "metadata": {},
   "outputs": [
    {
     "data": {
      "text/plain": [
       "0"
      ]
     },
     "execution_count": 19,
     "metadata": {},
     "output_type": "execute_result"
    }
   ],
   "source": [
    "0 and not 1"
   ]
  },
  {
   "cell_type": "code",
   "execution_count": 5,
   "metadata": {},
   "outputs": [
    {
     "name": "stdout",
     "output_type": "stream",
     "text": [
      "all good\n"
     ]
    }
   ],
   "source": [
    "if True:\n",
    "    print(\"all good\")"
   ]
  },
  {
   "cell_type": "code",
   "execution_count": 16,
   "metadata": {},
   "outputs": [
    {
     "name": "stdout",
     "output_type": "stream",
     "text": [
      "this is an an inappropiate input\n"
     ]
    }
   ],
   "source": [
    "try:\n",
    "    a=int(input(\"Enter the marks\"))\n",
    "    if a > 40 and a <= 100:\n",
    "        print(\"pass\")\n",
    "\n",
    "    elif a < 40 and a >= 0:\n",
    "        print(\"failed\")\n",
    "\n",
    "    else:\n",
    "        print(\"this is an an inappropiate input\")\n",
    "\n",
    "except:\n",
    "    print(\"incorrect input\")"
   ]
  },
  {
   "cell_type": "code",
   "execution_count": 13,
   "metadata": {},
   "outputs": [
    {
     "name": "stdout",
     "output_type": "stream",
     "text": [
      "failed\n",
      "this is an an inappropiate input\n"
     ]
    }
   ],
   "source": [
    "a=int(input(\"Enter the marks\"))\n",
    "if a > 40 and a <= 100:\n",
    "    print(\"pass\")\n",
    "\n",
    "else:\n",
    "    if a < 40 and a > 0:\n",
    "        print(\"failed\")\n",
    "\n",
    "print(\"this is an an inappropiate input\")"
   ]
  },
  {
   "cell_type": "code",
   "execution_count": 20,
   "metadata": {},
   "outputs": [
    {
     "name": "stdout",
     "output_type": "stream",
     "text": [
      "something else\n"
     ]
    }
   ],
   "source": [
    "b = int(input())\n",
    "match b:\n",
    "    case 1:\n",
    "        print(\"1\")\n",
    "    case 2:\n",
    "        print(\"2\")\n",
    "    case other:\n",
    "        print(\"something else\")"
   ]
  },
  {
   "cell_type": "code",
   "execution_count": 37,
   "metadata": {},
   "outputs": [
    {
     "name": "stdout",
     "output_type": "stream",
     "text": [
      "Valid card\n",
      "access granted\n",
      "balance is 7655\n"
     ]
    }
   ],
   "source": [
    "balance =10000\n",
    "card = input(\"enter your card number\")\n",
    "\n",
    "if card == card:\n",
    "    print(\"Valid card\")\n",
    "    pin = input(\"enter the pin\")\n",
    "    if pin == \"1111\":\n",
    "        print(\"access granted\")\n",
    "        ttype = input(\"Enter W or D\")\n",
    "        if ttype == \"W\":\n",
    "            a= int(input(\"Enter the withdrawl amount\"))\n",
    "            if a >= balance:\n",
    "                print(\"Invalid value\")\n",
    "            else:\n",
    "                balance = balance - a\n",
    "                print(\"balance is\", balance)\n",
    "        elif ttype == \"D\":\n",
    "            c= int(input(\"Enter the deposit amount\"))\n",
    "            balance = balance + c\n",
    "            print(\"balance is\", balance)\n",
    "        else:\n",
    "            print(\"invalid input\")\n",
    "    else:\n",
    "        print(\"incorrect pin\")\n",
    "else:\n",
    "    print(\"Invalid card number\")"
   ]
  },
  {
   "cell_type": "code",
   "execution_count": 34,
   "metadata": {},
   "outputs": [
    {
     "name": "stdout",
     "output_type": "stream",
     "text": [
      "0\n",
      "1\n",
      "2\n",
      "3\n",
      "4\n",
      "5\n",
      "6\n",
      "7\n",
      "8\n",
      "9\n"
     ]
    }
   ],
   "source": [
    "for i in range(10):\n",
    "    print(i)"
   ]
  },
  {
   "cell_type": "code",
   "execution_count": 38,
   "metadata": {},
   "outputs": [
    {
     "name": "stdout",
     "output_type": "stream",
     "text": [
      "finance is a problem\n",
      "health is a problem\n",
      "overthinking is a problem\n",
      "studies is a problem\n"
     ]
    }
   ],
   "source": [
    "life = [\"finance\", \"health\", \"overthinking\", \"studies\"]\n",
    "for problems in life:\n",
    "    print(problems +\" is a problem\")"
   ]
  },
  {
   "cell_type": "code",
   "execution_count": 39,
   "metadata": {},
   "outputs": [
    {
     "name": "stdout",
     "output_type": "stream",
     "text": [
      "S\n",
      "a\n",
      "c\n",
      "h\n",
      "i\n",
      "t\n",
      "a\n",
      "n\n",
      "a\n",
      "n\n",
      "d\n",
      "a\n",
      " \n",
      "J\n",
      "e\n",
      "n\n",
      "a\n"
     ]
    }
   ],
   "source": [
    "for i in \"Sachitananda Jena\":\n",
    "    print(i)"
   ]
  },
  {
   "cell_type": "code",
   "execution_count": 43,
   "metadata": {},
   "outputs": [
    {
     "name": "stdout",
     "output_type": "stream",
     "text": [
      "10\n"
     ]
    }
   ],
   "source": [
    "a,b =[10,20]\n",
    "print(a)"
   ]
  },
  {
   "cell_type": "code",
   "execution_count": 48,
   "metadata": {},
   "outputs": [
    {
     "name": "stdout",
     "output_type": "stream",
     "text": [
      "(1, 'a') (2, 'b') (3, 'c') (4, 'd') (5, 'e')\n"
     ]
    }
   ],
   "source": [
    "L1 = [1,2,3,4,5]\n",
    "L2 = ['a','b','c','d','e','f']\n",
    "\n",
    "c = zip(L1,L2)\n",
    "print(*c)\n",
    "\n",
    "for i,j in c:\n",
    "    print(i,j)"
   ]
  },
  {
   "cell_type": "code",
   "execution_count": 5,
   "metadata": {},
   "outputs": [
    {
     "name": "stdout",
     "output_type": "stream",
     "text": [
      "0\n",
      "1\n",
      "2\n",
      "3\n",
      "4\n",
      "6\n",
      "7\n",
      "8\n",
      "9\n"
     ]
    }
   ],
   "source": [
    "for i in range(10):\n",
    "    if i == 5:\n",
    "        continue\n",
    "    print(i)"
   ]
  },
  {
   "cell_type": "code",
   "execution_count": 6,
   "metadata": {},
   "outputs": [
    {
     "name": "stdout",
     "output_type": "stream",
     "text": [
      "0\n",
      "1\n",
      "2\n",
      "3\n",
      "4\n",
      "5\n",
      "6\n",
      "7\n",
      "8\n",
      "9\n"
     ]
    }
   ],
   "source": [
    "for i in range(10):\n",
    "    if i == 5:\n",
    "        pass\n",
    "    print(i)"
   ]
  },
  {
   "cell_type": "code",
   "execution_count": 10,
   "metadata": {},
   "outputs": [
    {
     "name": "stdout",
     "output_type": "stream",
     "text": [
      "0 0\n",
      "1 0\n",
      "2 0\n",
      "3 0\n",
      "4 0\n",
      "0 1\n",
      "1 1\n",
      "2 1\n",
      "3 1\n",
      "4 1\n"
     ]
    }
   ],
   "source": [
    "for j in range(2):\n",
    "    for i in range(10):\n",
    "        if i==5:\n",
    "            break\n",
    "        print(i,j)"
   ]
  },
  {
   "cell_type": "code",
   "execution_count": 18,
   "metadata": {},
   "outputs": [
    {
     "name": "stdout",
     "output_type": "stream",
     "text": [
      "0\n"
     ]
    }
   ],
   "source": [
    "\n",
    "for i in range (100):\n",
    "    if i % 10 == 0:\n",
    "        break\n",
    "    elif i % 10 !=0:\n",
    "        i =i+1\n",
    "print(i)"
   ]
  },
  {
   "cell_type": "code",
   "execution_count": 19,
   "metadata": {},
   "outputs": [],
   "source": [
    "for j in range (1):\n",
    "    for i in range (101):\n",
    "        if j %10 ==0:\n",
    "            continue\n",
    "        print(j)"
   ]
  },
  {
   "cell_type": "code",
   "execution_count": 48,
   "metadata": {},
   "outputs": [
    {
     "ename": "SyntaxError",
     "evalue": "incomplete input (1358144736.py, line 2)",
     "output_type": "error",
     "traceback": [
      "\u001b[1;36m  Cell \u001b[1;32mIn[48], line 2\u001b[1;36m\u001b[0m\n\u001b[1;33m    for j in [\"kanth\",\"khan\", \"bhatt\"]:\u001b[0m\n\u001b[1;37m                                       ^\u001b[0m\n\u001b[1;31mSyntaxError\u001b[0m\u001b[1;31m:\u001b[0m incomplete input\n"
     ]
    }
   ],
   "source": [
    "for i in [\"rajni\",\"sharuk\", \"alia\"]:\n",
    "    for j in [\"kanth\",\"khan\", \"bhatt\"]:"
   ]
  },
  {
   "cell_type": "code",
   "execution_count": 36,
   "metadata": {},
   "outputs": [
    {
     "name": "stdout",
     "output_type": "stream",
     "text": [
      "1\n",
      "2\n",
      "3\n",
      "4\n",
      "5\n",
      "6\n",
      "7\n",
      "8\n",
      "9\n",
      "10\n"
     ]
    }
   ],
   "source": [
    "a =0\n",
    "while a <10:\n",
    "    a=a+1\n",
    "    print(a)"
   ]
  },
  {
   "cell_type": "code",
   "execution_count": 47,
   "metadata": {},
   "outputs": [
    {
     "name": "stdout",
     "output_type": "stream",
     "text": [
      "0 0\n",
      "0 1\n",
      "0 2\n",
      "0 3\n",
      "0 4\n"
     ]
    }
   ],
   "source": [
    "a =0\n",
    "b =0\n",
    "while a <5:\n",
    "    while b<5:    \n",
    "        print(a,b)\n",
    "        b=b+1\n",
    "    a=a+1"
   ]
  },
  {
   "cell_type": "code",
   "execution_count": 55,
   "metadata": {},
   "outputs": [
    {
     "name": "stdout",
     "output_type": "stream",
     "text": [
      "rajnikanth sharukkhan aliabhatt\n"
     ]
    }
   ],
   "source": [
    "for i in [\"rajni\",\"sharuk\", \"alia\"]:\n",
    "    for j in [\"kanth\",\"khan\", \"bhatt\"]:\n",
    "        a = \"rajni\" + \"kanth\"\n",
    "        b = \"sharuk\" + \"khan\"\n",
    "        c = \"alia\" + \"bhatt\"\n",
    "print(a,b,c)"
   ]
  },
  {
   "cell_type": "code",
   "execution_count": 69,
   "metadata": {},
   "outputs": [
    {
     "data": {
      "text/plain": [
       "complex"
      ]
     },
     "execution_count": 69,
     "metadata": {},
     "output_type": "execute_result"
    }
   ],
   "source": [
    "a = 1 +2j\n",
    "#print(a)\n",
    "type(a)"
   ]
  },
  {
   "cell_type": "code",
   "execution_count": 16,
   "metadata": {},
   "outputs": [
    {
     "name": "stdout",
     "output_type": "stream",
     "text": [
      "173.2050807568877\n"
     ]
    }
   ],
   "source": [
    "import math\n",
    "a = float(input())\n",
    "b = (math.sqrt(3)*a*a)/4\n",
    "print((b))"
   ]
  },
  {
   "cell_type": "code",
   "execution_count": 18,
   "metadata": {},
   "outputs": [
    {
     "name": "stdout",
     "output_type": "stream",
     "text": [
      "30\n"
     ]
    }
   ],
   "source": [
    "month = int(input())\n",
    "if(month == 1 or month == 3 or month == 5 or month == 7 or month == 8 or month == 10 or month == 12):\n",
    "\tprint(\"31\")\n",
    "elif(month == 2):\n",
    "\tprint(\"28\")\n",
    "else:\n",
    "\tprint(\"30\")"
   ]
  },
  {
   "cell_type": "code",
   "execution_count": 32,
   "metadata": {},
   "outputs": [
    {
     "name": "stdout",
     "output_type": "stream",
     "text": [
      "[1, 'Test', 3.5, ['A', 1.2, 6]]\n",
      "[1, 'My Name', 3.5, ['A', 1.2, 6]]\n",
      "4\n",
      "1.2\n"
     ]
    },
    {
     "ename": "TypeError",
     "evalue": "list indices must be integers or slices, not list",
     "output_type": "error",
     "traceback": [
      "\u001b[1;31m---------------------------------------------------------------------------\u001b[0m",
      "\u001b[1;31mTypeError\u001b[0m                                 Traceback (most recent call last)",
      "Cell \u001b[1;32mIn[32], line 8\u001b[0m\n\u001b[0;32m      6\u001b[0m \u001b[38;5;28mprint\u001b[39m(\u001b[38;5;28mlen\u001b[39m(a))\n\u001b[0;32m      7\u001b[0m \u001b[38;5;28mprint\u001b[39m(a[\u001b[38;5;241m3\u001b[39m][\u001b[38;5;241m1\u001b[39m])\n\u001b[1;32m----> 8\u001b[0m \u001b[38;5;28mprint\u001b[39m(\u001b[43ma\u001b[49m\u001b[43m[\u001b[49m\u001b[43m[\u001b[49m\u001b[38;5;241;43m0\u001b[39;49m\u001b[43m,\u001b[49m\u001b[38;5;241;43m1\u001b[39;49m\u001b[43m,\u001b[49m\u001b[38;5;241;43m3\u001b[39;49m\u001b[43m]\u001b[49m\u001b[43m]\u001b[49m)\n",
      "\u001b[1;31mTypeError\u001b[0m: list indices must be integers or slices, not list"
     ]
    }
   ],
   "source": [
    "a = [1,\"Test\",3.5,[\"A\",1.2,6]]\n",
    "print(a)\n",
    "#print(a[1])\n",
    "a[1]=\"My Name\"\n",
    "print(a)\n",
    "print(len(a))\n",
    "print(a[3][1])\n",
    "print(a[[0,1,3]])"
   ]
  },
  {
   "cell_type": "code",
   "execution_count": 19,
   "metadata": {},
   "outputs": [
    {
     "name": "stdout",
     "output_type": "stream",
     "text": [
      "[5, 7, 9, 2, 4, 6, 8, 10]\n",
      "[1, 3, 5, 7, 9]\n",
      "[1, 5, 9, 4, 8]\n",
      "[1, 7, 4, 10]\n",
      "[3, 7, 2, 6, 10]\n",
      "[10, 8, 6, 4, 2, 9, 7, 5, 3, 1]\n",
      "[10, 6, 2, 7, 3]\n",
      "[1, 3, 5, 7, 9, 2, 4, 6, 8]\n"
     ]
    }
   ],
   "source": [
    "list1 = [1,3,5,7,9,2,4,6,8,10]\n",
    "list1 [0:5]\n",
    "print(list1[2:])\n",
    "print(list1[:5])\n",
    "print(list1[::2])\n",
    "print(list1[::3])\n",
    "print(list1[1::2])\n",
    "print(list1[::-1])\n",
    "print(list1[::-2])\n",
    "print(list1[:-1])\n"
   ]
  },
  {
   "cell_type": "code",
   "execution_count": 36,
   "metadata": {},
   "outputs": [
    {
     "name": "stdout",
     "output_type": "stream",
     "text": [
      "[1, 2]\n",
      "[1, 2, 3]\n",
      "[1, 2, 3, ['a', 'b', 'c']]\n",
      "3\n",
      "[1, 2, ['a', 'b', 'c']]\n",
      "[1, 2, ['a', 'b', 'c']]\n",
      "[2]\n"
     ]
    }
   ],
   "source": [
    "b = [1]\n",
    "b.append(2)\n",
    "print(b)\n",
    "b.append(3)\n",
    "print(b)\n",
    "b.append(['a','b','c'])\n",
    "print(b)\n",
    "c=b.pop(2)\n",
    "print(c)\n",
    "print(b)\n",
    "#b.remove(2)\n",
    "print(b)\n",
    "del b[0],b[1]\n",
    "print(b)"
   ]
  },
  {
   "cell_type": "code",
   "execution_count": 51,
   "metadata": {},
   "outputs": [
    {
     "name": "stdout",
     "output_type": "stream",
     "text": [
      "[1, 'A', True, 1.0]\n",
      "[1, 'A', True, 1.0, 1, 2, 3]\n",
      "[1, 'A', True, 1.0, 1, 2, 3, [1, 2, 3]]\n",
      "0\n",
      "0\n",
      "[[1, 2, 3], 3, 2, 1, 1.0, True, 'A', 1]\n"
     ]
    }
   ],
   "source": [
    "b =[1,True,1.0]\n",
    "b.insert(1,\"A\")\n",
    "print(b)\n",
    "b.extend([1,2,3])\n",
    "print(b)\n",
    "b.append([1,2,3])\n",
    "print(b)\n",
    "print(b.count(\"Guvi\"))\n",
    "print(b.index(1))\n",
    "b.reverse()\n",
    "print(b)"
   ]
  },
  {
   "cell_type": "code",
   "execution_count": 52,
   "metadata": {},
   "outputs": [
    {
     "name": "stdout",
     "output_type": "stream",
     "text": [
      "[2, 11, 23, 33, 45, 51, 65, 98, 100]\n"
     ]
    }
   ],
   "source": [
    "a = [11,2,23,45,51,33,65,98,100]\n",
    "a.sort()\n",
    "print(a)"
   ]
  },
  {
   "cell_type": "code",
   "execution_count": 55,
   "metadata": {},
   "outputs": [
    {
     "name": "stdout",
     "output_type": "stream",
     "text": [
      "(1, 3, 5, 7, 9, 2, 4, 6, 8, 10)\n",
      "5\n"
     ]
    },
    {
     "ename": "TypeError",
     "evalue": "'tuple' object does not support item assignment",
     "output_type": "error",
     "traceback": [
      "\u001b[1;31m---------------------------------------------------------------------------\u001b[0m",
      "\u001b[1;31mTypeError\u001b[0m                                 Traceback (most recent call last)",
      "Cell \u001b[1;32mIn[55], line 4\u001b[0m\n\u001b[0;32m      2\u001b[0m \u001b[38;5;28mprint\u001b[39m(a)\n\u001b[0;32m      3\u001b[0m \u001b[38;5;28mprint\u001b[39m(a[\u001b[38;5;241m2\u001b[39m])\n\u001b[1;32m----> 4\u001b[0m \u001b[43ma\u001b[49m\u001b[43m[\u001b[49m\u001b[38;5;241;43m2\u001b[39;49m\u001b[43m]\u001b[49m\u001b[38;5;241m=\u001b[39m\u001b[38;5;241m11\u001b[39m\n\u001b[0;32m      5\u001b[0m \u001b[38;5;28mprint\u001b[39m(a[\u001b[38;5;241m2\u001b[39m])\n",
      "\u001b[1;31mTypeError\u001b[0m: 'tuple' object does not support item assignment"
     ]
    }
   ],
   "source": [
    "a = (1,3,5,7,9,2,4,6,8,10)\n",
    "print(a)\n",
    "print(a[2])\n",
    "a[2]=11\n",
    "print(a[2])"
   ]
  },
  {
   "cell_type": "code",
   "execution_count": 63,
   "metadata": {},
   "outputs": [
    {
     "data": {
      "text/plain": [
       "True"
      ]
     },
     "execution_count": 63,
     "metadata": {},
     "output_type": "execute_result"
    }
   ],
   "source": [
    "#x,y,z =(1,2,3)\n",
    "#print(x,y,z)\n",
    "s = \"Car\"\n",
    "s.startswith(\"c\")\n",
    "s.endswith(\"r\")"
   ]
  },
  {
   "cell_type": "code",
   "execution_count": 66,
   "metadata": {},
   "outputs": [
    {
     "name": "stdout",
     "output_type": "stream",
     "text": [
      "[['name', '1234'], ['name1', '3456'], ['name2', '6789'], ['nirmal', '67541']]\n"
     ]
    }
   ],
   "source": [
    "phone = [[\"name\",\"1234\"],[\"name1\",\"3456\"],[\"name2\",\"6789\"]]\n",
    "phone.append([\"nirmal\",\"67541\"])\n",
    "print(phone)"
   ]
  },
  {
   "cell_type": "code",
   "execution_count": 1,
   "metadata": {},
   "outputs": [
    {
     "name": "stdout",
     "output_type": "stream",
     "text": [
      "the temperature in Chennai 30\n"
     ]
    }
   ],
   "source": [
    "import requests\n",
    "import json\n",
    "api_key = \"1659cf5477bd0a121c844691d4bd9e81\"\n",
    "city=input()\n",
    "url=\"https://api.openweathermap.org/data/2.5/weather?q=%s&appid=%s&units=metric\"% (city, api_key)\n",
    "#url = \"https://api.openweathermap.org/data/2.5/onecall?lat=%s&lon=%s&appid=%s&units=metric\" % (lat, lon, api_key)\n",
    "response = requests.get(url)\n",
    "data = json.loads(response.text)\n",
    "#print(data)\n",
    "print(\"the temperature in {} \".format(city)+str(data[\"main\"][\"temp\"]))"
   ]
  },
  {
   "cell_type": "code",
   "execution_count": 2,
   "metadata": {},
   "outputs": [
    {
     "name": "stdout",
     "output_type": "stream",
     "text": [
      "10\n",
      "10\n",
      "10\n",
      "10\n",
      "10\n",
      "10\n",
      "10\n",
      "10\n",
      "10\n",
      "10\n",
      "10\n",
      "10\n"
     ]
    }
   ],
   "source": [
    "a=int(input())\n",
    "b=int(input())\n",
    "for i in range(b):\n",
    "    print(a)"
   ]
  },
  {
   "cell_type": "code",
   "execution_count": 1,
   "metadata": {},
   "outputs": [
    {
     "name": "stdout",
     "output_type": "stream",
     "text": [
      "Your updated balance is 10500\n"
     ]
    }
   ],
   "source": [
    "import Bank as bnk \n",
    "a = bnk.account(\"ABC\",56789,10000)\n",
    "print(a.deposit(500))\n"
   ]
  },
  {
   "cell_type": "code",
   "execution_count": 3,
   "metadata": {},
   "outputs": [],
   "source": [
    "class account():\n",
    "    def __init__(self,name,account_number,balance):\n",
    "        self.name=name\n",
    "        self.account_number=account_number\n",
    "        self.balance=balance\n",
    "\n",
    "    def deposit(self,amount):\n",
    "        try:\n",
    "            self.balance=self.balance + amount\n",
    "            return \"Your updated balance is \"+str(self.balance)\n",
    "        except:\n",
    "            print(\"Invalid amount to be deposited\")\n",
    "    \n",
    "    def withdrawl(self,amount):\n",
    "        if self.balance >= amount:\n",
    "            self.balance=self.balance - amount\n",
    "            return \"Your updated balance is \"+str(self.balance)\n",
    "        else:\n",
    "            return False\n",
    "\n",
    "    def transfer(self,account,amount):\n",
    "        if self.withdraw(amount):\n",
    "            account.deposit(amount)\n",
    "        else:\n",
    "            print(\"Unable to withdraw the amount\")\n"
   ]
  },
  {
   "cell_type": "code",
   "execution_count": 4,
   "metadata": {},
   "outputs": [
    {
     "name": "stdout",
     "output_type": "stream",
     "text": [
      "Your updated balance is 10001500\n",
      "Your updated balance is 20001700\n"
     ]
    }
   ],
   "source": [
    "sachin=account('Sachin',123,1500)\n",
    "nirmal=account('Nirmal',345,1700)\n",
    "\n",
    "print(sachin.deposit(10000000))\n",
    "print(nirmal.deposit(20000000))"
   ]
  },
  {
   "cell_type": "code",
   "execution_count": 5,
   "metadata": {},
   "outputs": [
    {
     "name": "stdout",
     "output_type": "stream",
     "text": [
      "123\n",
      "Your updated balance is 1500\n"
     ]
    }
   ],
   "source": [
    "print(sachin.account_number)\n",
    "print(sachin.withdrawl(10000000))"
   ]
  },
  {
   "cell_type": "code",
   "execution_count": 6,
   "metadata": {},
   "outputs": [
    {
     "ename": "AttributeError",
     "evalue": "'account' object has no attribute 'withdraw'",
     "output_type": "error",
     "traceback": [
      "\u001b[1;31m---------------------------------------------------------------------------\u001b[0m",
      "\u001b[1;31mAttributeError\u001b[0m                            Traceback (most recent call last)",
      "Cell \u001b[1;32mIn[6], line 1\u001b[0m\n\u001b[1;32m----> 1\u001b[0m \u001b[43msachin\u001b[49m\u001b[38;5;241;43m.\u001b[39;49m\u001b[43mtransfer\u001b[49m\u001b[43m(\u001b[49m\u001b[43mnirmal\u001b[49m\u001b[43m,\u001b[49m\u001b[38;5;241;43m100\u001b[39;49m\u001b[43m)\u001b[49m\n",
      "Cell \u001b[1;32mIn[3], line 22\u001b[0m, in \u001b[0;36maccount.transfer\u001b[1;34m(self, account, amount)\u001b[0m\n\u001b[0;32m     21\u001b[0m \u001b[38;5;28;01mdef\u001b[39;00m \u001b[38;5;21mtransfer\u001b[39m(\u001b[38;5;28mself\u001b[39m,account,amount):\n\u001b[1;32m---> 22\u001b[0m     \u001b[38;5;28;01mif\u001b[39;00m \u001b[38;5;28;43mself\u001b[39;49m\u001b[38;5;241;43m.\u001b[39;49m\u001b[43mwithdraw\u001b[49m(amount):\n\u001b[0;32m     23\u001b[0m         account\u001b[38;5;241m.\u001b[39mdeposit(amount)\n\u001b[0;32m     24\u001b[0m     \u001b[38;5;28;01melse\u001b[39;00m:\n",
      "\u001b[1;31mAttributeError\u001b[0m: 'account' object has no attribute 'withdraw'"
     ]
    }
   ],
   "source": [
    "sachin.transfer(nirmal,100)"
   ]
  },
  {
   "cell_type": "code",
   "execution_count": 7,
   "metadata": {},
   "outputs": [
    {
     "name": "stdout",
     "output_type": "stream",
     "text": [
      "1500\n",
      "20001700\n"
     ]
    }
   ],
   "source": [
    "print(sachin.balance)\n",
    "print(nirmal.balance)"
   ]
  }
 ],
 "metadata": {
  "kernelspec": {
   "display_name": "Python 3",
   "language": "python",
   "name": "python3"
  },
  "language_info": {
   "codemirror_mode": {
    "name": "ipython",
    "version": 3
   },
   "file_extension": ".py",
   "mimetype": "text/x-python",
   "name": "python",
   "nbconvert_exporter": "python",
   "pygments_lexer": "ipython3",
   "version": "3.12.2"
  }
 },
 "nbformat": 4,
 "nbformat_minor": 2
}
