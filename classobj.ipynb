{
 "cells": [
  {
   "cell_type": "code",
   "execution_count": 35,
   "metadata": {},
   "outputs": [],
   "source": [
    "class account():\n",
    "    def __init__(self,name, accountno, balance):\n",
    "        self.name = name\n",
    "        self.accountno = accountno\n",
    "        self.balance = balance\n",
    "    def deposit(self,amount):        \n",
    "            self.balance = self.balance + amount\n",
    "            return \"Your updated balance: \" + str(self.balance)        \n",
    "    def withdraw(self,amount):        \n",
    "        if( self.balance >= amount):            \n",
    "            self.balance = self.balance - amount\n",
    "            return \"Your updated balance: \" + str(self.balance)\n",
    "        else:\n",
    "            return False \n",
    "    def transfer(self,account,amount):\n",
    "        if(self.withdraw(amount)):\n",
    "            account.deposit(amount)\n",
    "        else:\n",
    "            print(\"unable to withdraw\")"
   ]
  },
  {
   "cell_type": "code",
   "execution_count": 36,
   "metadata": {},
   "outputs": [
    {
     "name": "stdout",
     "output_type": "stream",
     "text": [
      "sk\n"
     ]
    }
   ],
   "source": [
    "sk = account('sk',123,100)\n",
    "sk1 = account('sk01',1234,100)\n",
    "\n",
    "print(sk.name)"
   ]
  },
  {
   "cell_type": "code",
   "execution_count": 37,
   "metadata": {},
   "outputs": [
    {
     "name": "stdout",
     "output_type": "stream",
     "text": [
      "unable to withdraw\n"
     ]
    }
   ],
   "source": [
    "sk.transfer(sk1,200)\n"
   ]
  },
  {
   "cell_type": "code",
   "execution_count": 32,
   "metadata": {},
   "outputs": [
    {
     "name": "stdout",
     "output_type": "stream",
     "text": [
      "85\n",
      "115\n"
     ]
    }
   ],
   "source": [
    "print(sk.balance)\n",
    "print(sk1.balance)\n"
   ]
  },
  {
   "cell_type": "code",
   "execution_count": 25,
   "metadata": {},
   "outputs": [
    {
     "name": "stdout",
     "output_type": "stream",
     "text": [
      "Your updated balance: 10100\n",
      "Your updated balance: 9100\n"
     ]
    }
   ],
   "source": [
    "print(sk.deposit(10000))\n",
    "print(sk.withdraw(1000))\n",
    "# print(sk1.deposit(10000))\n"
   ]
  },
  {
   "cell_type": "code",
   "execution_count": 12,
   "metadata": {},
   "outputs": [
    {
     "data": {
      "text/plain": [
       "'Your updated balance: 10100'"
      ]
     },
     "execution_count": 12,
     "metadata": {},
     "output_type": "execute_result"
    }
   ],
   "source": [
    "sk1.deposit(5000)"
   ]
  }
 ],
 "metadata": {
  "kernelspec": {
   "display_name": "Python 3",
   "language": "python",
   "name": "python3"
  },
  "language_info": {
   "codemirror_mode": {
    "name": "ipython",
    "version": 3
   },
   "file_extension": ".py",
   "mimetype": "text/x-python",
   "name": "python",
   "nbconvert_exporter": "python",
   "pygments_lexer": "ipython3",
   "version": "3.11.8"
  }
 },
 "nbformat": 4,
 "nbformat_minor": 2
}
