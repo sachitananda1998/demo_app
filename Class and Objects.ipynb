{
 "cells": [
  {
   "cell_type": "code",
   "execution_count": 1,
   "metadata": {},
   "outputs": [
    {
     "name": "stdout",
     "output_type": "stream",
     "text": [
      "6.2\n"
     ]
    }
   ],
   "source": [
    "class father():\n",
    "    def __init__(self):\n",
    "        pass\n",
    "    def nose(self):\n",
    "        return \"The nose is pointed\"\n",
    "\n",
    "class son():\n",
    "    def __init__(self):\n",
    "        pass\n",
    "    def height(self):\n",
    "        return \"6.2\"\n",
    "\n",
    "a=son()\n",
    "print(a.height())"
   ]
  },
  {
   "cell_type": "code",
   "execution_count": 18,
   "metadata": {},
   "outputs": [
    {
     "data": {
      "text/plain": [
       "'The eyes are open and time is day'"
      ]
     },
     "execution_count": 18,
     "metadata": {},
     "output_type": "execute_result"
    }
   ],
   "source": [
    "class human():\n",
    "    def __init__(self,time,status):\n",
    "        self.time=time\n",
    "        self.status=status\n",
    "\n",
    "    def heart(self):\n",
    "        return \"Heart is pumping blood\"\n",
    "    \n",
    "    def eyes(self):\n",
    "        return \"The eyes are open and time is \"+self.time\n",
    "    \n",
    "a=human(\"day\",\"You are alive\")\n",
    "a.eyes()"
   ]
  },
  {
   "cell_type": "code",
   "execution_count": 2,
   "metadata": {},
   "outputs": [
    {
     "name": "stdout",
     "output_type": "stream",
     "text": [
      "Evening\n"
     ]
    }
   ],
   "source": [
    "class guvi():\n",
    "    x=\"Evening\"\n",
    "\n",
    "a=guvi()\n",
    "print(a.x)"
   ]
  },
  {
   "cell_type": "code",
   "execution_count": 13,
   "metadata": {},
   "outputs": [],
   "source": [
    "class account():\n",
    "    def __init__(self,name,account_number,balance):\n",
    "        self.name=name\n",
    "        self.account_number=account_number\n",
    "        self.balance=balance\n",
    "\n",
    "    def deposit(self,amount):\n",
    "        try:\n",
    "            self.balance=self.balance + amount\n",
    "            return \"Your updated balance is \"+str(self.balance)\n",
    "        except:\n",
    "            print(\"Invalid amount to be deposited\")\n",
    "    \n",
    "    def withdrawl(self,amount):\n",
    "        if self.balance >= amount:\n",
    "            self.balance=self.balance - amount\n",
    "            return \"Your updated balance is \"+str(self.balance)\n",
    "        else:\n",
    "            return \"Insufficient balance\"\n",
    "\n",
    "nirmal=account(\"Nirmal\",123456,1000)\n",
    "sachin=account(\"Sachin\",345678,2000)"
   ]
  },
  {
   "cell_type": "code",
   "execution_count": 16,
   "metadata": {},
   "outputs": [
    {
     "name": "stdout",
     "output_type": "stream",
     "text": [
      "1100\n"
     ]
    }
   ],
   "source": [
    "nirmal.deposit(100)\n",
    "print(nirmal.balance)"
   ]
  },
  {
   "cell_type": "code",
   "execution_count": 17,
   "metadata": {},
   "outputs": [
    {
     "name": "stdout",
     "output_type": "stream",
     "text": [
      "900\n"
     ]
    }
   ],
   "source": [
    "nirmal.withdrawl(200)\n",
    "print(nirmal.balance)"
   ]
  },
  {
   "cell_type": "code",
   "execution_count": 14,
   "metadata": {},
   "outputs": [
    {
     "name": "stdout",
     "output_type": "stream",
     "text": [
      "1900\n"
     ]
    }
   ],
   "source": [
    "sachin.withdrawl(100)\n",
    "print(sachin.balance)"
   ]
  },
  {
   "cell_type": "code",
   "execution_count": 15,
   "metadata": {},
   "outputs": [
    {
     "name": "stdout",
     "output_type": "stream",
     "text": [
      "2100\n"
     ]
    }
   ],
   "source": [
    "sachin.deposit(200)\n",
    "print(sachin.balance)"
   ]
  },
  {
   "cell_type": "code",
   "execution_count": 6,
   "metadata": {},
   "outputs": [
    {
     "name": "stdout",
     "output_type": "stream",
     "text": [
      "300\n"
     ]
    }
   ],
   "source": [
    "nirmal.balance=300\n",
    "print(nirmal.balance)"
   ]
  },
  {
   "cell_type": "code",
   "execution_count": 7,
   "metadata": {},
   "outputs": [
    {
     "name": "stdout",
     "output_type": "stream",
     "text": [
      "2000000\n"
     ]
    }
   ],
   "source": [
    "print(sachin.balance)"
   ]
  },
  {
   "cell_type": "code",
   "execution_count": 2,
   "metadata": {},
   "outputs": [],
   "source": [
    "class account():\n",
    "    def __init__(self,name,account_number,balance):\n",
    "        self.name=name\n",
    "        self.account_number=account_number\n",
    "        self.balance=balance\n",
    "\n",
    "    def deposit(self,amount):\n",
    "        try:\n",
    "            self.balance=self.balance + amount\n",
    "            return \"Your updated balance is \"+str(self.balance)\n",
    "        except:\n",
    "            print(\"Invalid amount to be deposited\")\n",
    "    \n",
    "    def withdrawl(self,amount):\n",
    "        if self.balance >= amount:\n",
    "            self.balance=self.balance - amount\n",
    "            return \"Your updated balance is \"+str(self.balance)\n",
    "        else:\n",
    "            return False\n",
    "\n",
    "    def transfer(self,account,amount):\n",
    "        if self.withdraw(amount):\n",
    "            account.deposit(amount)\n",
    "        else:\n",
    "            print(\"Unable to withdraw the amount\")"
   ]
  },
  {
   "cell_type": "code",
   "execution_count": 3,
   "metadata": {},
   "outputs": [
    {
     "name": "stdout",
     "output_type": "stream",
     "text": [
      "Your updated balance is 2500\n",
      "Your updated balance is 3700\n"
     ]
    }
   ],
   "source": [
    "sachin=account('Sachin',123,1500)\n",
    "nirmal=account('Nirmal',345,1700)\n",
    "\n",
    "print(sachin.deposit(1000))\n",
    "print(nirmal.deposit(2000))"
   ]
  },
  {
   "cell_type": "code",
   "execution_count": 4,
   "metadata": {},
   "outputs": [
    {
     "name": "stdout",
     "output_type": "stream",
     "text": [
      "123\n",
      "Your updated balance is 2400\n"
     ]
    }
   ],
   "source": [
    "print(sachin.account_number)\n",
    "print(sachin.withdrawl(100))"
   ]
  },
  {
   "cell_type": "code",
   "execution_count": 5,
   "metadata": {},
   "outputs": [
    {
     "name": "stdout",
     "output_type": "stream",
     "text": [
      "2400\n",
      "3700\n"
     ]
    }
   ],
   "source": [
    "print(sachin.balance)\n",
    "print(nirmal.balance)"
   ]
  },
  {
   "cell_type": "code",
   "execution_count": 6,
   "metadata": {},
   "outputs": [
    {
     "name": "stdout",
     "output_type": "stream",
     "text": [
      "6.2\n",
      "The nose is pointed\n"
     ]
    }
   ],
   "source": [
    "#single inheritence\n",
    "class father():\n",
    "    def __init__(self):\n",
    "        pass\n",
    "    def nose(self):\n",
    "        return \"The nose is pointed\"\n",
    "\n",
    "class son(father):\n",
    "    def __init__(self):\n",
    "        pass\n",
    "    def height(self):\n",
    "        return \"6.2\"\n",
    "\n",
    "a=son()\n",
    "print(a.height())\n",
    "print(a.nose())"
   ]
  },
  {
   "cell_type": "code",
   "execution_count": 20,
   "metadata": {},
   "outputs": [
    {
     "name": "stdout",
     "output_type": "stream",
     "text": [
      "6.2\n",
      "The nose is pointed\n",
      "Blue\n"
     ]
    }
   ],
   "source": [
    "#multiple inheritance\n",
    "class father():\n",
    "    def __init__(self):\n",
    "        pass\n",
    "    def eyes(self):\n",
    "        return \"Brown\"\n",
    "    def nose(self):\n",
    "        return \"The nose is pointed\"\n",
    "    \n",
    "class mother():\n",
    "    def __init__(self):\n",
    "        pass\n",
    "    def eyes(self):\n",
    "        return \"Black\"\n",
    "\n",
    "class son(mother,father):\n",
    "    def __init__(self):\n",
    "        pass\n",
    "    def eyes(self):\n",
    "        return \"Blue\"\n",
    "    def height(self):\n",
    "        return \"6.2\"\n",
    "\n",
    "a=son()\n",
    "print(a.height())\n",
    "print(a.nose())\n",
    "print(a.eyes())"
   ]
  },
  {
   "cell_type": "code",
   "execution_count": 8,
   "metadata": {},
   "outputs": [
    {
     "name": "stdout",
     "output_type": "stream",
     "text": [
      "6.2\n",
      "The nose is pointed\n",
      "Blue\n",
      "House\n"
     ]
    }
   ],
   "source": [
    "#multilevel inheritance\n",
    "class father():\n",
    "    def __init__(self):\n",
    "        pass\n",
    "    def eyes(self):\n",
    "        return \"Brown\"\n",
    "    def nose(self):\n",
    "        return \"The nose is pointed\"\n",
    "    \n",
    "class son(father):\n",
    "    def __init__(self):\n",
    "        pass\n",
    "    def eyes(self):\n",
    "        return \"Blue\"\n",
    "    def height(self):\n",
    "        return \"6.2\"\n",
    "    \n",
    "class grandson(son):\n",
    "    def __init__(self):\n",
    "        pass\n",
    "    def fortune(self):\n",
    "        return \"House\"\n",
    "\n",
    "a=grandson()\n",
    "print(a.height())\n",
    "print(a.nose())\n",
    "print(a.eyes())\n",
    "print(a.fortune())"
   ]
  },
  {
   "cell_type": "code",
   "execution_count": 24,
   "metadata": {},
   "outputs": [
    {
     "name": "stdout",
     "output_type": "stream",
     "text": [
      "100\n",
      "100\n",
      "1100\n",
      "600\n"
     ]
    }
   ],
   "source": [
    "#without encapsulation\n",
    "class BankAccount:\n",
    "   def __init__(self, account_number, balance):\n",
    "       self.account_number = account_number\n",
    "       self.__balance = balance  # Public attribute\n",
    "\n",
    "   def deposit(self, amount):\n",
    "       self.__balance += amount\n",
    "       return self.__balance\n",
    "\n",
    "   def withdraw(self, amount):\n",
    "       if amount > self.__balance:\n",
    "           print(\"Insufficient funds!\")\n",
    "           return\n",
    "       self.__balance -= amount\n",
    "       return self.__balance\n",
    "\n",
    "   def get_balance(self):\n",
    "       return self.__balance\n",
    "   \n",
    "account = BankAccount(\"123456789\", 100)\n",
    "print(account.get_balance())  # 100\n",
    "\n",
    "# With the balance being public, we can change it directly, potentially causing data inconsistency or misuse:\n",
    "account.balance = 1000000\n",
    "print(account.get_balance())  # 1000000\n",
    "\n",
    "#deposite the amount\n",
    "account.deposit(1000)\n",
    "print(account.get_balance())\n",
    "\n",
    "#withdraw from the account\n",
    "account.withdraw(500)\n",
    "print(account.get_balance())"
   ]
  }
 ],
 "metadata": {
  "kernelspec": {
   "display_name": "guvi",
   "language": "python",
   "name": "python3"
  },
  "language_info": {
   "codemirror_mode": {
    "name": "ipython",
    "version": 3
   },
   "file_extension": ".py",
   "mimetype": "text/x-python",
   "name": "python",
   "nbconvert_exporter": "python",
   "pygments_lexer": "ipython3",
   "version": "3.12.2"
  }
 },
 "nbformat": 4,
 "nbformat_minor": 2
}
