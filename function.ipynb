{
 "cells": [
  {
   "cell_type": "code",
   "execution_count": 1,
   "metadata": {},
   "outputs": [],
   "source": [
    "def guvi():\n",
    "    # print(\"hello\")\n",
    "    return None"
   ]
  },
  {
   "cell_type": "code",
   "execution_count": 2,
   "metadata": {},
   "outputs": [],
   "source": [
    "def guvi():\n",
    "    #print(\"hello\")\n",
    "    return \"Hello World\"\n",
    "    print(\"Good Evening\")\n",
    "    print(\"ABC\")"
   ]
  },
  {
   "cell_type": "code",
   "execution_count": 5,
   "metadata": {},
   "outputs": [
    {
     "data": {
      "text/plain": [
       "'Hello World'"
      ]
     },
     "execution_count": 5,
     "metadata": {},
     "output_type": "execute_result"
    }
   ],
   "source": [
    "guvi()"
   ]
  },
  {
   "cell_type": "code",
   "execution_count": null,
   "metadata": {},
   "outputs": [],
   "source": [
    "def IsValidEmail1(eMail):\n",
    "    isValemail = False\n",
    "    sMail = eMail.split(\"@\")\n",
    "    for i in range(1, len(sMail[0]) - 1):\n",
    "        if (sMail[0][i] == '.' or sMail[0][i] == '_') and (sMail[0][i - 1] != '' and sMail[0][i + 1] != ''):\n",
    "            isValemail = True\n",
    "            print(\"value before/after\")\n",
    "            break\n",
    "    return isValemail   "
   ]
  },
  {
   "cell_type": "code",
   "execution_count": 5,
   "metadata": {},
   "outputs": [
    {
     "name": "stdout",
     "output_type": "stream",
     "text": [
      "value before/after\n"
     ]
    },
    {
     "data": {
      "text/plain": [
       "True"
      ]
     },
     "execution_count": 5,
     "metadata": {},
     "output_type": "execute_result"
    }
   ],
   "source": [
    "import isValidate\n",
    "isValidate.IsValidEmail(\"ask_123@guvi.com\")"
   ]
  },
  {
   "cell_type": "code",
   "execution_count": 9,
   "metadata": {},
   "outputs": [],
   "source": [
    "def hellow(word):\n",
    "    a = len(word)\n",
    "    b = word.upper()\n",
    "    return \"The word \" + b +\" is of length \" + str(a)"
   ]
  },
  {
   "cell_type": "code",
   "execution_count": 7,
   "metadata": {},
   "outputs": [
    {
     "ename": "TypeError",
     "evalue": "hellow() missing 1 required positional argument: 'word'",
     "output_type": "error",
     "traceback": [
      "\u001b[1;31m---------------------------------------------------------------------------\u001b[0m",
      "\u001b[1;31mTypeError\u001b[0m                                 Traceback (most recent call last)",
      "Cell \u001b[1;32mIn[7], line 1\u001b[0m\n\u001b[1;32m----> 1\u001b[0m \u001b[43mhellow\u001b[49m\u001b[43m(\u001b[49m\u001b[43m)\u001b[49m\n",
      "\u001b[1;31mTypeError\u001b[0m: hellow() missing 1 required positional argument: 'word'"
     ]
    }
   ],
   "source": [
    "hellow()"
   ]
  },
  {
   "cell_type": "code",
   "execution_count": 8,
   "metadata": {},
   "outputs": [
    {
     "data": {
      "text/plain": [
       "'The word DEVIN IS THE FIRST AI PROGRAMM is of length 30'"
      ]
     },
     "execution_count": 8,
     "metadata": {},
     "output_type": "execute_result"
    }
   ],
   "source": [
    "hellow(\"devin is the first ai programm\")"
   ]
  },
  {
   "cell_type": "code",
   "execution_count": 3,
   "metadata": {},
   "outputs": [
    {
     "data": {
      "text/plain": [
       "6"
      ]
     },
     "execution_count": 3,
     "metadata": {},
     "output_type": "execute_result"
    }
   ],
   "source": [
    "def add(a,b):\n",
    "    return a + b\n",
    "add(1,5)"
   ]
  },
  {
   "cell_type": "code",
   "execution_count": 5,
   "metadata": {},
   "outputs": [
    {
     "data": {
      "text/plain": [
       "5"
      ]
     },
     "execution_count": 5,
     "metadata": {},
     "output_type": "execute_result"
    }
   ],
   "source": [
    "def max(a,b,c):\n",
    "    # print(type(a),a.isnumeric() )\n",
    "    if(type(a) == int and type(b) == int and type(c) == int):\n",
    "        if a > b and a>c:\n",
    "            return a\n",
    "        elif b > a  and b >c:\n",
    "            return b\n",
    "        else:\n",
    "            return c\n",
    "    else:\n",
    "        return \"data type issue\"    \n",
    "max(1,5,3)"
   ]
  },
  {
   "cell_type": "code",
   "execution_count": 9,
   "metadata": {},
   "outputs": [
    {
     "name": "stdout",
     "output_type": "stream",
     "text": [
      "681\n"
     ]
    }
   ],
   "source": [
    "def pri(*val):\n",
    "    i = 0\n",
    "    for a in val:\n",
    "        i = i+a\n",
    "    print(i)\n",
    "pri(213,234,234)"
   ]
  },
  {
   "cell_type": "code",
   "execution_count": 10,
   "metadata": {},
   "outputs": [
    {
     "name": "stdout",
     "output_type": "stream",
     "text": [
      "xyz a123\n",
      "681\n"
     ]
    }
   ],
   "source": [
    "def pri(name, acc, *val):\n",
    "    print(name,acc)\n",
    "    i = 0\n",
    "    for a in val:\n",
    "        i = i+a\n",
    "    print(i)\n",
    "\n",
    "pri(\"xyz\",\"a123\",213,234,234)"
   ]
  },
  {
   "cell_type": "code",
   "execution_count": 24,
   "metadata": {},
   "outputs": [
    {
     "name": "stdout",
     "output_type": "stream",
     "text": [
      "{'name': 'guvi', 'teck': 'data', 'city': 'all'}\n",
      "dict_keys(['name', 'teck', 'city'])\n",
      "dict_values(['guvi', 'data', 'all'])\n"
     ]
    }
   ],
   "source": [
    "def ke(**val):\n",
    "    print(val)\n",
    "    print(val.keys())\n",
    "    print(val.values())\n",
    "    \n",
    "ke(name=\"guvi\",teck=\"data\",city=\"all\")"
   ]
  },
  {
   "cell_type": "code",
   "execution_count": 25,
   "metadata": {},
   "outputs": [
    {
     "name": "stdout",
     "output_type": "stream",
     "text": [
      "{'teck': 'data', 'city': 'all'}\n",
      "dict_keys(['teck', 'city'])\n",
      "dict_values(['data', 'all'])\n"
     ]
    }
   ],
   "source": [
    "def ke(name,**val):\n",
    "    print(val)\n",
    "    print(val.keys())\n",
    "    print(val.values())\n",
    "    \n",
    "ke(name=\"guvi\",teck=\"data\",city=\"all\")"
   ]
  }
 ],
 "metadata": {
  "kernelspec": {
   "display_name": "Python 3",
   "language": "python",
   "name": "python3"
  },
  "language_info": {
   "codemirror_mode": {
    "name": "ipython",
    "version": 3
   },
   "file_extension": ".py",
   "mimetype": "text/x-python",
   "name": "python",
   "nbconvert_exporter": "python",
   "pygments_lexer": "ipython3",
   "version": "3.12.2"
  }
 },
 "nbformat": 4,
 "nbformat_minor": 2
}
